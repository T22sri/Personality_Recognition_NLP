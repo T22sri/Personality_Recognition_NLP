{
 "cells": [
  {
   "cell_type": "code",
   "execution_count": 1,
   "id": "99c57e5f",
   "metadata": {},
   "outputs": [
    {
     "name": "stdout",
     "output_type": "stream",
     "text": [
      "\u001b[38;5;2m✔ Download and installation successful\u001b[0m\n",
      "You can now load the package via spacy.load('en_core_web_sm')\n"
     ]
    }
   ],
   "source": [
    "import pandas as pd\n",
    "from sklearn.feature_extraction.text import CountVectorizer\n",
    "from sklearn.linear_model import LogisticRegression\n",
    "from sklearn.metrics import f1_score\n",
    "from sklearn.metrics import accuracy_score, precision_score, recall_score, f1_score\n",
    "from sklearn.model_selection import train_test_split\n",
    "import re\n",
    "import nltk\n",
    "from nltk.corpus import stopwords\n",
    "from nltk.stem import PorterStemmer\n",
    "import sklearn\n",
    "import pandas as pd\n",
    "from sklearn.model_selection import KFold\n",
    "from sklearn.feature_extraction.text import CountVectorizer\n",
    "from sklearn.naive_bayes import MultinomialNB\n",
    "from sklearn.metrics import accuracy_score\n",
    "import numpy as np\n",
    "import csv, re\n",
    "import string\n",
    "import codecs\n",
    "from collections import Counter\n",
    "from spacy.lang.en import English\n",
    "from tqdm import tqdm\n",
    "import sklearn.metrics as metrics\n",
    "from sklearn.metrics import mean_squared_error\n",
    "from sklearn.model_selection import cross_val_score, KFold\n",
    "import matplotlib.pyplot as plt\n",
    "import jsonlines\n",
    "import spacy\n",
    "from sklearn.model_selection import cross_val_score, KFold\n",
    "import pandas as pd\n",
    "from sklearn.feature_extraction.text import CountVectorizer\n",
    "from sklearn.linear_model import LogisticRegression\n",
    "from sklearn.metrics import accuracy_score, precision_score, recall_score, f1_score\n",
    "from sklearn.model_selection import cross_val_score, KFold\n",
    "import pandas as pd\n",
    "from sklearn.metrics import classification_report\n",
    "from sklearn.model_selection import cross_val_predict, KFold\n",
    "spacy.cli.download(\"en_core_web_sm\")"
   ]
  },
  {
   "cell_type": "code",
   "execution_count": 2,
   "id": "afe37c70",
   "metadata": {},
   "outputs": [],
   "source": [
    "# Load CSV data\n",
    "\n",
    "path_file= r\"/data/wcpr_mypersonality.csv\"\n",
    "df = pd.read_csv(path_file, encoding='latin-1')\n",
    "\n",
    "# Convert to jsonlines format\n",
    "with jsonlines.open('myPersonality.jsonl', 'w') as writer:\n",
    "    for _, row in df.iterrows():\n",
    "        writer.write(row.to_dict())\n",
    "        \n",
    "# Load jsonlines data\n",
    "data = []\n",
    "with jsonlines.open('myPersonality.jsonl', 'r') as reader:\n",
    "    for item in reader:\n",
    "        data.append(item)\n",
    "\n",
    "# Convert to DataFrame\n",
    "df = pd.DataFrame(data)"
   ]
  },
  {
   "cell_type": "code",
   "execution_count": 3,
   "id": "8d4ca4f4",
   "metadata": {},
   "outputs": [
    {
     "data": {
      "text/plain": [
       "Index(['#AUTHID', 'STATUS', 'sEXT', 'sNEU', 'sAGR', 'sCON', 'sOPN', 'cEXT',\n",
       "       'cNEU', 'cAGR', 'cCON', 'cOPN', 'DATE', 'NETWORKSIZE', 'BETWEENNESS',\n",
       "       'NBETWEENNESS', 'DENSITY', 'BROKERAGE', 'NBROKERAGE', 'TRANSITIVITY'],\n",
       "      dtype='object')"
      ]
     },
     "execution_count": 3,
     "metadata": {},
     "output_type": "execute_result"
    }
   ],
   "source": [
    "df.columns"
   ]
  },
  {
   "cell_type": "code",
   "execution_count": 4,
   "id": "d2e6b6b0",
   "metadata": {},
   "outputs": [],
   "source": [
    "# Extract the 'STATUS' and 'cNEU' columns\n",
    "X = df['STATUS']\n",
    "y = df['cNEU']\n",
    "\n",
    "# Add lexical features to the data\n",
    "cv = CountVectorizer()\n",
    "X_features = cv.fit_transform(X)"
   ]
  },
  {
   "cell_type": "code",
   "execution_count": 5,
   "id": "727edcd2",
   "metadata": {},
   "outputs": [],
   "source": [
    "# Train a logistic regression classifier using k-fold cross-validation\n",
    "lr_classifier = LogisticRegression(solver='liblinear')\n",
    "kfold = KFold(n_splits=10, shuffle=True, random_state=42)\n",
    "\n",
    "# Make predictions using k-fold cross-validation\n",
    "y_pred = cross_val_predict(lr_classifier, X_features, y, cv=kfold)"
   ]
  },
  {
   "cell_type": "code",
   "execution_count": 6,
   "id": "2ab1de99",
   "metadata": {},
   "outputs": [
    {
     "name": "stdout",
     "output_type": "stream",
     "text": [
      "              precision    recall  f1-score   support\n",
      "\n",
      "           n       0.66      0.82      0.73      6200\n",
      "           y       0.50      0.31      0.39      3717\n",
      "\n",
      "    accuracy                           0.63      9917\n",
      "   macro avg       0.58      0.56      0.56      9917\n",
      "weighted avg       0.60      0.63      0.60      9917\n",
      "\n"
     ]
    }
   ],
   "source": [
    "# Print the classification report, which includes precision, recall, and F1-score\n",
    "report = classification_report(y, y_pred)\n",
    "print(report)"
   ]
  }
 ],
 "metadata": {
  "kernelspec": {
   "display_name": "Python 3 (ipykernel)",
   "language": "python",
   "name": "python3"
  },
  "language_info": {
   "codemirror_mode": {
    "name": "ipython",
    "version": 3
   },
   "file_extension": ".py",
   "mimetype": "text/x-python",
   "name": "python",
   "nbconvert_exporter": "python",
   "pygments_lexer": "ipython3",
   "version": "3.10.9"
  }
 },
 "nbformat": 4,
 "nbformat_minor": 5
}
