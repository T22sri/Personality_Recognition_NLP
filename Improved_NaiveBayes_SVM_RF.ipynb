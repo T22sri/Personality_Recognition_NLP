{
 "cells": [
  {
   "cell_type": "code",
   "execution_count": 63,
   "id": "9e5d0f00",
   "metadata": {},
   "outputs": [],
   "source": [
    "import sklearn\n",
    "import pandas as pd\n",
    "import numpy as np\n",
    "import csv, re\n",
    "import string\n",
    "import codecs\n",
    "import nltk\n",
    "from sklearn.model_selection import train_test_split\n",
    "import sklearn.metrics as metrics\n",
    "import matplotlib.pyplot as plt\n",
    "import jsonlines"
   ]
  },
  {
   "cell_type": "code",
   "execution_count": 64,
   "id": "1a72516b",
   "metadata": {},
   "outputs": [],
   "source": [
    "# Load data into a pandas dataframe\n",
    "path_file= r\"data/wcpr_mypersonality.csv\"\n",
    "\n",
    "data = pd.read_csv('/data/wcpr_mypersonality.csv',encoding='mac-roman')"
   ]
  },
  {
   "cell_type": "code",
   "execution_count": 65,
   "id": "d15dc622",
   "metadata": {},
   "outputs": [
    {
     "data": {
      "text/plain": [
       "Index(['#AUTHID', 'STATUS', 'sEXT', 'sNEU', 'sAGR', 'sCON', 'sOPN', 'cEXT',\n",
       "       'cNEU', 'cAGR', 'cCON', 'cOPN', 'DATE', 'NETWORKSIZE', 'BETWEENNESS',\n",
       "       'NBETWEENNESS', 'DENSITY', 'BROKERAGE', 'NBROKERAGE', 'TRANSITIVITY'],\n",
       "      dtype='object')"
      ]
     },
     "execution_count": 65,
     "metadata": {},
     "output_type": "execute_result"
    }
   ],
   "source": [
    "data.columns"
   ]
  },
  {
   "cell_type": "code",
   "execution_count": 66,
   "id": "95035de3",
   "metadata": {},
   "outputs": [],
   "source": [
    "# Extract features using TF-IDF\n",
    "\n",
    "from sklearn.feature_extraction.text import TfidfVectorizer\n",
    "from sklearn.feature_extraction.text import CountVectorizer\n",
    "#sublinear_tf=True\n",
    "\n",
    "vectorizer = CountVectorizer(stop_words='english')\n",
    "X = vectorizer.fit_transform(data['STATUS'])\n",
    "y = data['cNEU']"
   ]
  },
  {
   "cell_type": "code",
   "execution_count": 67,
   "id": "d8bc08e5",
   "metadata": {},
   "outputs": [
    {
     "data": {
      "text/plain": [
       "RandomForestClassifier()"
      ]
     },
     "execution_count": 67,
     "metadata": {},
     "output_type": "execute_result"
    }
   ],
   "source": [
    "# Create a Naive Bayes classifier trained on the featurized training data\n",
    "\n",
    "from sklearn.naive_bayes import MultinomialNB\n",
    "from sklearn.svm import LinearSVC\n",
    "from sklearn.ensemble import RandomForestClassifier\n",
    "from sklearn.model_selection import train_test_split\n",
    "\n",
    "# Split data into training and testing sets\n",
    "X_train, X_test, y_train, y_test = train_test_split(X, y, test_size=0.2, stratify=y, shuffle=True, random_state=42)\n",
    "\n",
    "# Train a Multinomial Naive Bayes classifier, MultinomialNB()\n",
    "# LinearSVC(max_iter=100000)\n",
    "# RandomForestClassifier(n_estimators=100)\n",
    "\n",
    "clf = LinearSVC(max_iter=100000)\n",
    "clf.fit(X_train, y_train)"
   ]
  },
  {
   "cell_type": "code",
   "execution_count": 68,
   "id": "7f794625",
   "metadata": {},
   "outputs": [
    {
     "name": "stdout",
     "output_type": "stream",
     "text": [
      "Classifying test data...\n",
      "Accuracy  = 0.6043346774193549\n"
     ]
    }
   ],
   "source": [
    "# Classify the test data and see how well you perform\n",
    "\n",
    "print(\"Classifying test data...\")\n",
    "predicted_labels = clf.predict(X_test)\n",
    "print('Accuracy  = {}'.format(metrics.accuracy_score(predicted_labels,  y_test)))"
   ]
  },
  {
   "cell_type": "code",
   "execution_count": 69,
   "id": "fa077b49",
   "metadata": {},
   "outputs": [
    {
     "name": "stdout",
     "output_type": "stream",
     "text": [
      "Generating plots...\n"
     ]
    },
    {
     "data": {
      "image/png": "[encoded data removed]",
      "text/plain": [
       "<Figure size 640x480 with 2 Axes>"
      ]
     },
     "metadata": {},
     "output_type": "display_data"
    }
   ],
   "source": [
    " # Graph the confusion matrix to show accuracies\n",
    "\n",
    "print(\"Generating plots...\")\n",
    "metrics.plot_confusion_matrix(clf, X_test, y_test, normalize='true')\n",
    "plt.show()"
   ]
  },
  {
   "cell_type": "code",
   "execution_count": 71,
   "id": "aeab22c8",
   "metadata": {},
   "outputs": [
    {
     "name": "stdout",
     "output_type": "stream",
     "text": [
      "Accuracy: 0.60\n",
      "Classification report:\n",
      "              precision    recall  f1-score   support\n",
      "\n",
      "           n       0.76      0.66      0.71      1423\n",
      "           y       0.35      0.46      0.40       561\n",
      "\n",
      "    accuracy                           0.60      1984\n",
      "   macro avg       0.55      0.56      0.55      1984\n",
      "weighted avg       0.64      0.60      0.62      1984\n",
      "\n"
     ]
    }
   ],
   "source": [
    "from sklearn.metrics import accuracy_score, classification_report\n",
    "\n",
    "accuracy = accuracy_score(predicted_labels, y_test)\n",
    "report = classification_report(predicted_labels, y_test)\n",
    "\n",
    "print(f\"Accuracy: {accuracy:.2f}\")\n",
    "print(f\"Classification report:\\n{report}\")"
   ]
  },
  {
   "cell_type": "code",
   "execution_count": 92,
   "id": "8e93bfa6",
   "metadata": {},
   "outputs": [
    {
     "name": "stdout",
     "output_type": "stream",
     "text": [
      "Classification report for MultinomialNB():\n",
      "              precision    recall  f1-score   support\n",
      "\n",
      "           n       0.82      0.67      0.74      1509\n",
      "           y       0.34      0.53      0.42       475\n",
      "\n",
      "    accuracy                           0.64      1984\n",
      "   macro avg       0.58      0.60      0.58      1984\n",
      "weighted avg       0.71      0.64      0.66      1984\n",
      "\n",
      "Classification report for LinearSVC(max_iter=100000):\n",
      "              precision    recall  f1-score   support\n",
      "\n",
      "           n       0.75      0.68      0.71      1373\n",
      "           y       0.41      0.50      0.45       611\n",
      "\n",
      "    accuracy                           0.62      1984\n",
      "   macro avg       0.58      0.59      0.58      1984\n",
      "weighted avg       0.65      0.62      0.63      1984\n",
      "\n",
      "Classification report for RandomForestClassifier():\n",
      "              precision    recall  f1-score   support\n",
      "\n",
      "           n       0.76      0.66      0.70      1423\n",
      "           y       0.35      0.46      0.40       561\n",
      "\n",
      "    accuracy                           0.60      1984\n",
      "   macro avg       0.55      0.56      0.55      1984\n",
      "weighted avg       0.64      0.60      0.62      1984\n",
      "\n",
      "Summary of classifiers:\n"
     ]
    },
    {
     "data": {
      "text/html": [
       "<div>\n",
       "<style scoped>\n",
       "    .dataframe tbody tr th:only-of-type {\n",
       "        vertical-align: middle;\n",
       "    }\n",
       "\n",
       "    .dataframe tbody tr th {\n",
       "        vertical-align: top;\n",
       "    }\n",
       "\n",
       "    .dataframe thead th {\n",
       "        text-align: right;\n",
       "    }\n",
       "</style>\n",
       "<table border=\"1\" class=\"dataframe\">\n",
       "  <thead>\n",
       "    <tr style=\"text-align: right;\">\n",
       "      <th></th>\n",
       "      <th>Accuracy</th>\n",
       "    </tr>\n",
       "  </thead>\n",
       "  <tbody>\n",
       "    <tr>\n",
       "      <th>Naive Bayes</th>\n",
       "      <td>0.640625</td>\n",
       "    </tr>\n",
       "    <tr>\n",
       "      <th>SVM</th>\n",
       "      <td>0.624496</td>\n",
       "    </tr>\n",
       "    <tr>\n",
       "      <th>RandomForest</th>\n",
       "      <td>0.603327</td>\n",
       "    </tr>\n",
       "  </tbody>\n",
       "</table>\n",
       "</div>"
      ],
      "text/plain": [
       "              Accuracy\n",
       "Naive Bayes   0.640625\n",
       "SVM           0.624496\n",
       "RandomForest  0.603327"
      ]
     },
     "execution_count": 92,
     "metadata": {},
     "output_type": "execute_result"
    }
   ],
   "source": [
    "import sklearn.metrics as metrics\n",
    "\n",
    "regressor = ['Naive Bayes', 'SVM', 'RandomForest']\n",
    "models = [MultinomialNB(), LinearSVC(max_iter=100000), RandomForestClassifier(n_estimators=100)]\n",
    "m_accuracy = []\n",
    "m_precision = []\n",
    "m_recall = []\n",
    "for m in models:\n",
    "    m.fit(X_train, y_train)\n",
    "    prediction_m = m.predict(X_test)\n",
    "    accuracy = metrics.accuracy_score(y_test, prediction_m)\n",
    "    m_accuracy.append(accuracy)\n",
    "    for label in ['n', 'y']:\n",
    "        precision = metrics.precision_score(y_test, prediction_m, pos_label=label)\n",
    "        recall = metrics.recall_score(y_test, prediction_m,pos_label=label)\n",
    "        m_precision.append(precision)\n",
    "        m_recall.append(recall)\n",
    "    \n",
    "    report = classification_report(prediction_m, y_test)\n",
    "    print(f\"Classification report for {m}:\\n{report}\")\n",
    "    \n",
    "basic_result = pd.DataFrame({'Accuracy':m_accuracy}, index=regressor)\n",
    "print(\"Summary of classifiers:\")\n",
    "basic_result\n"
   ]
  },
  {
   "cell_type": "code",
   "execution_count": null,
   "id": "d037bec8",
   "metadata": {},
   "outputs": [],
   "source": []
  }
 ],
 "metadata": {
  "kernelspec": {
   "display_name": "Python 3 (ipykernel)",
   "language": "python",
   "name": "python3"
  },
  "language_info": {
   "codemirror_mode": {
    "name": "ipython",
    "version": 3
   },
   "file_extension": ".py",
   "mimetype": "text/x-python",
   "name": "python",
   "nbconvert_exporter": "python",
   "pygments_lexer": "ipython3",
   "version": "3.10.9"
  }
 },
 "nbformat": 4,
 "nbformat_minor": 5
}
