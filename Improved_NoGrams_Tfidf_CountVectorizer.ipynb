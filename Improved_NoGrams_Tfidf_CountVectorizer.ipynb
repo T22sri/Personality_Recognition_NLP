{
 "cells": [
  {
   "cell_type": "code",
   "execution_count": 27,
   "id": "9e5d0f00",
   "metadata": {},
   "outputs": [],
   "source": [
    "import sklearn\n",
    "import pandas as pd\n",
    "import numpy as np\n",
    "import csv, re\n",
    "import string\n",
    "import codecs\n",
    "import nltk\n",
    "from sklearn.model_selection import train_test_split\n",
    "from sklearn.linear_model import LogisticRegression\n",
    "from sklearn.metrics import accuracy_score, classification_report\n",
    "import sklearn.metrics as metrics\n",
    "import matplotlib.pyplot as plt\n",
    "import jsonlines"
   ]
  },
  {
   "cell_type": "code",
   "execution_count": 28,
   "id": "1a72516b",
   "metadata": {},
   "outputs": [],
   "source": [
    "# Load data into a pandas dataframe\n",
    "\n",
    "data = pd.read_csv('/data/wcpr_mypersonality.csv',encoding='mac-roman')"
   ]
  },
  {
   "cell_type": "code",
   "execution_count": 29,
   "id": "d15dc622",
   "metadata": {},
   "outputs": [
    {
     "data": {
      "text/plain": [
       "Index(['#AUTHID', 'STATUS', 'sEXT', 'sNEU', 'sAGR', 'sCON', 'sOPN', 'cEXT',\n",
       "       'cNEU', 'cAGR', 'cCON', 'cOPN', 'DATE', 'NETWORKSIZE', 'BETWEENNESS',\n",
       "       'NBETWEENNESS', 'DENSITY', 'BROKERAGE', 'NBROKERAGE', 'TRANSITIVITY'],\n",
       "      dtype='object')"
      ]
     },
     "execution_count": 29,
     "metadata": {},
     "output_type": "execute_result"
    }
   ],
   "source": [
    "data.columns"
   ]
  },
  {
   "cell_type": "code",
   "execution_count": 30,
   "id": "ac0769aa",
   "metadata": {},
   "outputs": [],
   "source": [
    "X = data['STATUS']\n",
    "y = data['cNEU']"
   ]
  },
  {
   "cell_type": "code",
   "execution_count": 31,
   "id": "bbb5d254",
   "metadata": {},
   "outputs": [],
   "source": [
    "from sklearn.model_selection import train_test_split\n",
    "\n",
    "# Split data into training and testing sets\n",
    "X_train, X_test, y_train, y_test = train_test_split(X, y, test_size=0.2, stratify=y, shuffle=True, random_state=42)"
   ]
  },
  {
   "cell_type": "code",
   "execution_count": 32,
   "id": "95035de3",
   "metadata": {},
   "outputs": [],
   "source": [
    "# Extract features using vectorizer\n",
    "#the training and testing data were vectorized by CountVectorizer and TfidfVectorizer objects. \n",
    "#This transformation is needed, because the ML algorithms work only with numerical data. \n",
    "#CountVectorizer creates a dictionary containing the occurrence number of tokens, \n",
    "#while TfidfVectorizer generates a dictionary with the tf-idf values of tokens.\n",
    "from sklearn.feature_extraction.text import TfidfVectorizer\n",
    "from sklearn.feature_extraction.text import CountVectorizer\n",
    "\n",
    "# Initialize count vectorizer\n",
    "count_vectorizer = CountVectorizer(analyzer='word', stop_words='english')\n",
    "\n",
    "# create count train and test variables\n",
    "count_train = count_vectorizer.fit_transform(X_train, y_train)\n",
    "count_test = count_vectorizer.transform(X_test)\n",
    "\n",
    "# Initialize TfidfVectorizer\n",
    "count_vectorizer = TfidfVectorizer(analyzer='word', stop_words='english')\n",
    "\n",
    "# create count train and test variables\n",
    "tdidf_train = count_vectorizer.fit_transform(X_train, y_train)\n",
    "tdidf_test = count_vectorizer.transform(X_test)"
   ]
  },
  {
   "cell_type": "code",
   "execution_count": 33,
   "id": "d8bc08e5",
   "metadata": {},
   "outputs": [
    {
     "data": {
      "text/html": [
       "<style>#sk-container-id-3 {color: black;background-color: white;}#sk-container-id-3 pre{padding: 0;}#sk-container-id-3 div.sk-toggleable {background-color: white;}#sk-container-id-3 label.sk-toggleable__label {cursor: pointer;display: block;width: 100%;margin-bottom: 0;padding: 0.3em;box-sizing: border-box;text-align: center;}#sk-container-id-3 label.sk-toggleable__label-arrow:before {content: \"▸\";float: left;margin-right: 0.25em;color: #696969;}#sk-container-id-3 label.sk-toggleable__label-arrow:hover:before {color: black;}#sk-container-id-3 div.sk-estimator:hover label.sk-toggleable__label-arrow:before {color: black;}#sk-container-id-3 div.sk-toggleable__content {max-height: 0;max-width: 0;overflow: hidden;text-align: left;background-color: #f0f8ff;}#sk-container-id-3 div.sk-toggleable__content pre {margin: 0.2em;color: black;border-radius: 0.25em;background-color: #f0f8ff;}#sk-container-id-3 input.sk-toggleable__control:checked~div.sk-toggleable__content {max-height: 200px;max-width: 100%;overflow: auto;}#sk-container-id-3 input.sk-toggleable__control:checked~label.sk-toggleable__label-arrow:before {content: \"▾\";}#sk-container-id-3 div.sk-estimator input.sk-toggleable__control:checked~label.sk-toggleable__label {background-color: #d4ebff;}#sk-container-id-3 div.sk-label input.sk-toggleable__control:checked~label.sk-toggleable__label {background-color: #d4ebff;}#sk-container-id-3 input.sk-hidden--visually {border: 0;clip: rect(1px 1px 1px 1px);clip: rect(1px, 1px, 1px, 1px);height: 1px;margin: -1px;overflow: hidden;padding: 0;position: absolute;width: 1px;}#sk-container-id-3 div.sk-estimator {font-family: monospace;background-color: #f0f8ff;border: 1px dotted black;border-radius: 0.25em;box-sizing: border-box;margin-bottom: 0.5em;}#sk-container-id-3 div.sk-estimator:hover {background-color: #d4ebff;}#sk-container-id-3 div.sk-parallel-item::after {content: \"\";width: 100%;border-bottom: 1px solid gray;flex-grow: 1;}#sk-container-id-3 div.sk-label:hover label.sk-toggleable__label {background-color: #d4ebff;}#sk-container-id-3 div.sk-serial::before {content: \"\";position: absolute;border-left: 1px solid gray;box-sizing: border-box;top: 0;bottom: 0;left: 50%;z-index: 0;}#sk-container-id-3 div.sk-serial {display: flex;flex-direction: column;align-items: center;background-color: white;padding-right: 0.2em;padding-left: 0.2em;position: relative;}#sk-container-id-3 div.sk-item {position: relative;z-index: 1;}#sk-container-id-3 div.sk-parallel {display: flex;align-items: stretch;justify-content: center;background-color: white;position: relative;}#sk-container-id-3 div.sk-item::before, #sk-container-id-3 div.sk-parallel-item::before {content: \"\";position: absolute;border-left: 1px solid gray;box-sizing: border-box;top: 0;bottom: 0;left: 50%;z-index: -1;}#sk-container-id-3 div.sk-parallel-item {display: flex;flex-direction: column;z-index: 1;position: relative;background-color: white;}#sk-container-id-3 div.sk-parallel-item:first-child::after {align-self: flex-end;width: 50%;}#sk-container-id-3 div.sk-parallel-item:last-child::after {align-self: flex-start;width: 50%;}#sk-container-id-3 div.sk-parallel-item:only-child::after {width: 0;}#sk-container-id-3 div.sk-dashed-wrapped {border: 1px dashed gray;margin: 0 0.4em 0.5em 0.4em;box-sizing: border-box;padding-bottom: 0.4em;background-color: white;}#sk-container-id-3 div.sk-label label {font-family: monospace;font-weight: bold;display: inline-block;line-height: 1.2em;}#sk-container-id-3 div.sk-label-container {text-align: center;}#sk-container-id-3 div.sk-container {/* jupyter's `normalize.less` sets `[hidden] { display: none; }` but bootstrap.min.css set `[hidden] { display: none !important; }` so we also need the `!important` here to be able to override the default hidden behavior on the sphinx rendered scikit-learn.org. See: https://github.com/scikit-learn/scikit-learn/issues/21755 */display: inline-block !important;position: relative;}#sk-container-id-3 div.sk-text-repr-fallback {display: none;}</style><div id=\"sk-container-id-3\" class=\"sk-top-container\"><div class=\"sk-text-repr-fallback\"><pre>LogisticRegression(solver=&#x27;liblinear&#x27;)</pre><b>In a Jupyter environment, please rerun this cell to show the HTML representation or trust the notebook. <br />On GitHub, the HTML representation is unable to render, please try loading this page with nbviewer.org.</b></div><div class=\"sk-container\" hidden><div class=\"sk-item\"><div class=\"sk-estimator sk-toggleable\"><input class=\"sk-toggleable__control sk-hidden--visually\" id=\"sk-estimator-id-3\" type=\"checkbox\" checked><label for=\"sk-estimator-id-3\" class=\"sk-toggleable__label sk-toggleable__label-arrow\">LogisticRegression</label><div class=\"sk-toggleable__content\"><pre>LogisticRegression(solver=&#x27;liblinear&#x27;)</pre></div></div></div></div></div>"
      ],
      "text/plain": [
       "LogisticRegression(solver='liblinear')"
      ]
     },
     "execution_count": 33,
     "metadata": {},
     "output_type": "execute_result"
    }
   ],
   "source": [
    "# Train a Logistic Regression classifier\n",
    "clf = LogisticRegression(solver='liblinear')\n",
    "\n",
    "# Train model for count vectorizer\n",
    "clf.fit(count_train, y_train)\n",
    "\n",
    "# Train model for TDIDFvectorizer\n",
    "clf.fit(tdidf_train, y_train)"
   ]
  },
  {
   "cell_type": "code",
   "execution_count": 34,
   "id": "7f794625",
   "metadata": {},
   "outputs": [
    {
     "name": "stdout",
     "output_type": "stream",
     "text": [
      "Classifying test data...\n",
      "Logistic Regression Count Accuracy  = 0.6224798387096774\n",
      "Logistic Regression TDIDF Accuracy  = 0.6461693548387096\n"
     ]
    }
   ],
   "source": [
    "# Classify the test data and see how well the vectorizers perform\n",
    "\n",
    "print(\"Classifying test data...\")\n",
    "# Run predict on count test data\n",
    "predicted_labels_count = clf.predict(count_test)\n",
    "print('Logistic Regression Count Accuracy  = {}'.format(metrics.accuracy_score(predicted_labels_count,  y_test)))\n",
    "\n",
    "# Run predict on tdidf test data\n",
    "predicted_labels_tdidf = clf.predict(tdidf_test)\n",
    "print('Logistic Regression TDIDF Accuracy  = {}'.format(metrics.accuracy_score(predicted_labels_tdidf,  y_test)))"
   ]
  },
  {
   "cell_type": "code",
   "execution_count": 36,
   "id": "104242f4",
   "metadata": {},
   "outputs": [
    {
     "name": "stdout",
     "output_type": "stream",
     "text": [
      "Classification report for CountVectorizer:\n",
      "              precision    recall  f1-score   support\n",
      "\n",
      "           n       0.80      0.66      0.73      1489\n",
      "           y       0.33      0.49      0.40       495\n",
      "\n",
      "    accuracy                           0.62      1984\n",
      "   macro avg       0.56      0.58      0.56      1984\n",
      "weighted avg       0.68      0.62      0.64      1984\n",
      "\n",
      "Classification report for tdidfVectorizer:\n",
      "              precision    recall  f1-score   support\n",
      "\n",
      "           n       0.93      0.65      0.77      1776\n",
      "           y       0.17      0.60      0.26       208\n",
      "\n",
      "    accuracy                           0.65      1984\n",
      "   macro avg       0.55      0.63      0.51      1984\n",
      "weighted avg       0.85      0.65      0.71      1984\n",
      "\n"
     ]
    }
   ],
   "source": [
    "# Report for both vectorizers\n",
    "report_count = classification_report(predicted_labels_count, y_test)\n",
    "print(f\"Classification report for CountVectorizer:\\n{report_count}\")\n",
    "\n",
    "report_tdidf = classification_report(predicted_labels_tdidf, y_test)\n",
    "print(f\"Classification report for tdidfVectorizer:\\n{report_tdidf}\")"
   ]
  },
  {
   "cell_type": "code",
   "execution_count": null,
   "id": "aeab22c8",
   "metadata": {},
   "outputs": [],
   "source": []
  }
 ],
 "metadata": {
  "kernelspec": {
   "display_name": "Python 3 (ipykernel)",
   "language": "python",
   "name": "python3"
  },
  "language_info": {
   "codemirror_mode": {
    "name": "ipython",
    "version": 3
   },
   "file_extension": ".py",
   "mimetype": "text/x-python",
   "name": "python",
   "nbconvert_exporter": "python",
   "pygments_lexer": "ipython3",
   "version": "3.9.7"
  }
 },
 "nbformat": 4,
 "nbformat_minor": 5
}
