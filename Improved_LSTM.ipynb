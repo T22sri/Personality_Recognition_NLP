{
 "cells": [
  {
   "cell_type": "code",
   "execution_count": 159,
   "id": "9e5d0f00",
   "metadata": {},
   "outputs": [],
   "source": [
    "import sklearn\n",
    "import pandas as pd\n",
    "import numpy as np\n",
    "import csv, re\n",
    "import string\n",
    "import codecs\n",
    "import nltk\n",
    "from sklearn.model_selection import train_test_split\n",
    "from sklearn.linear_model import LogisticRegression\n",
    "import sklearn.metrics as metrics\n",
    "import matplotlib.pyplot as plt\n",
    "import jsonlines"
   ]
  },
  {
   "cell_type": "code",
   "execution_count": 160,
   "id": "1a72516b",
   "metadata": {},
   "outputs": [],
   "source": [
    "# Load data into a pandas dataframe\n",
    "\n",
    "data = pd.read_csv('C:/Users/Teja/Documents/UMD/DATA641-NLP/Assignments/Final_Project_Classification/data/wcpr_mypersonality.csv',encoding='mac-roman')"
   ]
  },
  {
   "cell_type": "code",
   "execution_count": 161,
   "id": "b946b001",
   "metadata": {},
   "outputs": [
    {
     "data": {
      "text/plain": [
       "Index(['#AUTHID', 'STATUS', 'sEXT', 'sNEU', 'sAGR', 'sCON', 'sOPN', 'cEXT',\n",
       "       'cNEU', 'cAGR', 'cCON', 'cOPN', 'DATE', 'NETWORKSIZE', 'BETWEENNESS',\n",
       "       'NBETWEENNESS', 'DENSITY', 'BROKERAGE', 'NBROKERAGE', 'TRANSITIVITY'],\n",
       "      dtype='object')"
      ]
     },
     "execution_count": 161,
     "metadata": {},
     "output_type": "execute_result"
    }
   ],
   "source": [
    "data.columns"
   ]
  },
  {
   "cell_type": "code",
   "execution_count": 162,
   "id": "6701dea6",
   "metadata": {},
   "outputs": [],
   "source": [
    "# convert labels to numbers\n",
    "data.replace({'y':1,'n':0}, inplace = True)"
   ]
  },
  {
   "cell_type": "code",
   "execution_count": 163,
   "id": "20f017a4",
   "metadata": {},
   "outputs": [
    {
     "data": {
      "text/html": [
       "<div>\n",
       "<style scoped>\n",
       "    .dataframe tbody tr th:only-of-type {\n",
       "        vertical-align: middle;\n",
       "    }\n",
       "\n",
       "    .dataframe tbody tr th {\n",
       "        vertical-align: top;\n",
       "    }\n",
       "\n",
       "    .dataframe thead th {\n",
       "        text-align: right;\n",
       "    }\n",
       "</style>\n",
       "<table border=\"1\" class=\"dataframe\">\n",
       "  <thead>\n",
       "    <tr style=\"text-align: right;\">\n",
       "      <th></th>\n",
       "      <th>Status</th>\n",
       "      <th>Target Label</th>\n",
       "    </tr>\n",
       "  </thead>\n",
       "  <tbody>\n",
       "    <tr>\n",
       "      <th>0</th>\n",
       "      <td>likes the sound of thunder.</td>\n",
       "      <td>1</td>\n",
       "    </tr>\n",
       "    <tr>\n",
       "      <th>1</th>\n",
       "      <td>is so sleepy it's not even funny that's she ca...</td>\n",
       "      <td>1</td>\n",
       "    </tr>\n",
       "    <tr>\n",
       "      <th>2</th>\n",
       "      <td>is sore and wants the knot of muscles at the b...</td>\n",
       "      <td>1</td>\n",
       "    </tr>\n",
       "    <tr>\n",
       "      <th>3</th>\n",
       "      <td>likes how the day sounds in this new song.</td>\n",
       "      <td>1</td>\n",
       "    </tr>\n",
       "    <tr>\n",
       "      <th>4</th>\n",
       "      <td>is home. &lt;3</td>\n",
       "      <td>1</td>\n",
       "    </tr>\n",
       "  </tbody>\n",
       "</table>\n",
       "</div>"
      ],
      "text/plain": [
       "                                              Status  Target Label\n",
       "0                        likes the sound of thunder.             1\n",
       "1  is so sleepy it's not even funny that's she ca...             1\n",
       "2  is sore and wants the knot of muscles at the b...             1\n",
       "3         likes how the day sounds in this new song.             1\n",
       "4                                        is home. <3             1"
      ]
     },
     "execution_count": 163,
     "metadata": {},
     "output_type": "execute_result"
    }
   ],
   "source": [
    "# Status and neurotic target label columns\n",
    "data = pd.DataFrame({'Status': data.STATUS, 'Target Label': data.cNEU})\n",
    "data.head()"
   ]
  },
  {
   "cell_type": "code",
   "execution_count": 164,
   "id": "138a1d91",
   "metadata": {},
   "outputs": [],
   "source": [
    "# assign values\n",
    "status = data['Status'].values\n",
    "labels = data['Target Label'].values"
   ]
  },
  {
   "cell_type": "code",
   "execution_count": 165,
   "id": "142dc291",
   "metadata": {},
   "outputs": [
    {
     "data": {
      "text/plain": [
       "(9917, 9917)"
      ]
     },
     "execution_count": 165,
     "metadata": {},
     "output_type": "execute_result"
    }
   ],
   "source": [
    "# check number of rows in status and labels\n",
    "len(labels),len(status)"
   ]
  },
  {
   "cell_type": "code",
   "execution_count": 166,
   "id": "49f18f0c",
   "metadata": {},
   "outputs": [
    {
     "data": {
      "text/plain": [
       "(1, \"is so sleepy it's not even funny that's she can't get to sleep.\")"
      ]
     },
     "execution_count": 166,
     "metadata": {},
     "output_type": "execute_result"
    }
   ],
   "source": [
    "# sample status and label\n",
    "labels[1],status[1]"
   ]
  },
  {
   "cell_type": "code",
   "execution_count": 167,
   "id": "40b992b9",
   "metadata": {},
   "outputs": [],
   "source": [
    "# fix random seed for reproducibility\n",
    "tf.random.set_seed(7)"
   ]
  },
  {
   "cell_type": "code",
   "execution_count": 168,
   "id": "070b355b",
   "metadata": {},
   "outputs": [],
   "source": [
    "# split X and y training and testing(validate) datasets (same 80-20 as basemodel)\n",
    "training_portion = 0.7\n",
    "train_size = int(len(status) * training_portion)\n",
    "\n",
    "train_dataset = status[0: train_size]\n",
    "train_labels = labels[0: train_size]\n",
    "\n",
    "test_dataset = status[train_size:]\n",
    "validation_labels = labels[train_size:]"
   ]
  },
  {
   "cell_type": "code",
   "execution_count": 169,
   "id": "db7009fd",
   "metadata": {},
   "outputs": [],
   "source": [
    "# load the dataset but only keep the top n words, zero the rest\n",
    "top_words = 5000\n",
    "vocab_size = 5000\n",
    "embedding_dim = 32 #Embedding size for each token \n",
    "max_length = 200\n",
    "oov_tok = '<OOV>' #  Out of Vocabulary"
   ]
  },
  {
   "cell_type": "code",
   "execution_count": 170,
   "id": "a1cc6dc0",
   "metadata": {},
   "outputs": [
    {
     "name": "stdout",
     "output_type": "stream",
     "text": [
      "train_status 6941\n",
      "train_labels 6941\n",
      "validation_status 2976\n",
      "validation_labels 2976\n"
     ]
    }
   ],
   "source": [
    "# output train and test sizes\n",
    "print('train_status' ,len(train_dataset))\n",
    "print('train_labels', len(train_labels))\n",
    "print('validation_status', len(test_dataset))\n",
    "print('validation_labels', len(validation_labels))"
   ]
  },
  {
   "cell_type": "code",
   "execution_count": 171,
   "id": "6e5b5db9",
   "metadata": {},
   "outputs": [],
   "source": [
    "# Define tokenizer with vocab size\n",
    "from tensorflow.keras.preprocessing.text import Tokenizer\n",
    "\n",
    "tokenizer = Tokenizer(num_words = vocab_size, oov_token=oov_tok)\n",
    "tokenizer.fit_on_texts(train_dataset)\n",
    "word_index = tokenizer.word_index"
   ]
  },
  {
   "cell_type": "code",
   "execution_count": 172,
   "id": "df32e488",
   "metadata": {},
   "outputs": [
    {
     "data": {
      "text/plain": [
       "6941"
      ]
     },
     "execution_count": 172,
     "metadata": {},
     "output_type": "execute_result"
    }
   ],
   "source": [
    "# Tokenize list as input\n",
    "train_sequences = tokenizer.texts_to_sequences(train_dataset)\n",
    "len(train_sequences)"
   ]
  },
  {
   "cell_type": "code",
   "execution_count": 173,
   "id": "dd7422a7",
   "metadata": {},
   "outputs": [],
   "source": [
    "# truncate and pad input sequences with max_length=200\n",
    "from tensorflow.keras.preprocessing.sequence import pad_sequences\n",
    "\n",
    "train_padded = pad_sequences(train_sequences, maxlen=max_length)"
   ]
  },
  {
   "cell_type": "code",
   "execution_count": 174,
   "id": "d98b9981",
   "metadata": {},
   "outputs": [
    {
     "data": {
      "text/plain": [
       "(6941, 200)"
      ]
     },
     "execution_count": 174,
     "metadata": {},
     "output_type": "execute_result"
    }
   ],
   "source": [
    "len(train_padded),len(train_padded[0])"
   ]
  },
  {
   "cell_type": "code",
   "execution_count": 175,
   "id": "e0a7bf9b",
   "metadata": {},
   "outputs": [],
   "source": [
    "# Tokenize and pad test data\n",
    "validation_sequences = tokenizer.texts_to_sequences(test_dataset)\n",
    "validation_padded = pad_sequences(validation_sequences, maxlen=max_length)"
   ]
  },
  {
   "cell_type": "code",
   "execution_count": 176,
   "id": "88e1ee4e",
   "metadata": {},
   "outputs": [
    {
     "data": {
      "text/plain": [
       "{0, 1}"
      ]
     },
     "execution_count": 176,
     "metadata": {},
     "output_type": "execute_result"
    }
   ],
   "source": [
    "set(labels)"
   ]
  },
  {
   "cell_type": "code",
   "execution_count": 177,
   "id": "0aa06f82",
   "metadata": {},
   "outputs": [],
   "source": [
    "# re-shape train and test labels\n",
    "import numpy as np\n",
    "\n",
    "training_label_seq = np.array(train_labels)\n",
    "validation_label_seq = np.array(validation_labels)"
   ]
  },
  {
   "cell_type": "markdown",
   "id": "2198c2f1",
   "metadata": {},
   "source": [
    "LSTM"
   ]
  },
  {
   "cell_type": "markdown",
   "id": "95a97b7c",
   "metadata": {},
   "source": [
    "A bidirectional LSTM network is simply two separate LSTM networks; one feeds with a forward sequence and another with reversed sequence. Then the output of the two LSTM networks is concatenated together before being fed to the subsequent layers of the network. In Keras, you have the function Bidirectional() to clone an LSTM layer for forward-backward input and concatenate their output."
   ]
  },
  {
   "cell_type": "code",
   "execution_count": 178,
   "id": "99471a13",
   "metadata": {},
   "outputs": [
    {
     "name": "stdout",
     "output_type": "stream",
     "text": [
      "Model: \"sequential_11\"\n",
      "_________________________________________________________________\n",
      " Layer (type)                Output Shape              Param #   \n",
      "=================================================================\n",
      " embedding_11 (Embedding)    (None, None, 32)          160000    \n",
      "                                                                 \n",
      " bidirectional_11 (Bidirect  (None, 64)                16640     \n",
      " ional)                                                          \n",
      "                                                                 \n",
      " dense_9 (Dense)             (None, 1)                 65        \n",
      "                                                                 \n",
      "=================================================================\n",
      "Total params: 176705 (690.25 KB)\n",
      "Trainable params: 176705 (690.25 KB)\n",
      "Non-trainable params: 0 (0.00 Byte)\n",
      "_________________________________________________________________\n"
     ]
    }
   ],
   "source": [
    "# Define the LSTM model\n",
    "from keras.models import Sequential\n",
    "from keras.layers import Embedding, Dropout, SimpleRNN, Dense, LSTM, Bidirectional\n",
    "\n",
    "model = Sequential()\n",
    "model.add(Embedding(vocab_size,embedding_dim ))\n",
    "model.add(Bidirectional(LSTM(embedding_dim,dropout=0.2, recurrent_dropout=0.2)))\n",
    "#model.add(Dropout(0.5))\n",
    "model.add(Dense(1,activation='sigmoid' ))\n",
    "model.summary()\n",
    "\n",
    "# # truncate and pad input sequences\n",
    "# max_review_length = 200\n",
    "# # create the model\n",
    "# embedding_vecor_length = 32\n",
    "# model = Sequential()\n",
    "# model.add(Embedding(top_words, embedding_vecor_length, input_length=max_review_length))\n",
    "# model.add(Bidirectional(LSTM(100, dropout=0.2, recurrent_dropout=0.2)))\n",
    "# model.add(Dense(1, activation='sigmoid'))\n",
    "# model.summary()"
   ]
  },
  {
   "cell_type": "code",
   "execution_count": 179,
   "id": "8ed5bd90",
   "metadata": {},
   "outputs": [],
   "source": [
    "# Compile the model\n",
    "import tensorflow as tf\n",
    "\n",
    "opt = tf.keras.optimizers.Adam()\n",
    "model.compile(loss='binary_crossentropy',optimizer=opt,metrics=['accuracy'])\n",
    "\n",
    "#model.compile(loss='binary_crossentropy', optimizer='adam', metrics=['accuracy'])\n",
    "#print(model.summary())"
   ]
  },
  {
   "cell_type": "code",
   "execution_count": 180,
   "id": "fcf04986",
   "metadata": {},
   "outputs": [
    {
     "name": "stdout",
     "output_type": "stream",
     "text": [
      "Epoch 1/10\n",
      "217/217 - 240s - loss: 0.6631 - accuracy: 0.6195 - val_loss: 0.6600 - val_accuracy: 0.6257 - 240s/epoch - 1s/step\n",
      "Epoch 2/10\n",
      "217/217 - 227s - loss: 0.6070 - accuracy: 0.6637 - val_loss: 0.6944 - val_accuracy: 0.5938 - 227s/epoch - 1s/step\n",
      "Epoch 3/10\n",
      "217/217 - 194s - loss: 0.4971 - accuracy: 0.7531 - val_loss: 0.7804 - val_accuracy: 0.5450 - 194s/epoch - 893ms/step\n",
      "Epoch 4/10\n",
      "217/217 - 186s - loss: 0.4049 - accuracy: 0.8124 - val_loss: 0.8575 - val_accuracy: 0.5477 - 186s/epoch - 859ms/step\n",
      "Epoch 5/10\n",
      "217/217 - 192s - loss: 0.3347 - accuracy: 0.8492 - val_loss: 1.0383 - val_accuracy: 0.5598 - 192s/epoch - 883ms/step\n",
      "Epoch 6/10\n",
      "217/217 - 187s - loss: 0.2758 - accuracy: 0.8775 - val_loss: 1.1667 - val_accuracy: 0.5521 - 187s/epoch - 861ms/step\n",
      "Epoch 7/10\n",
      "217/217 - 186s - loss: 0.2412 - accuracy: 0.8911 - val_loss: 1.3370 - val_accuracy: 0.5464 - 186s/epoch - 858ms/step\n",
      "Epoch 8/10\n",
      "217/217 - 191s - loss: 0.2089 - accuracy: 0.9082 - val_loss: 1.4283 - val_accuracy: 0.5585 - 191s/epoch - 880ms/step\n",
      "Epoch 9/10\n",
      "217/217 - 193s - loss: 0.1987 - accuracy: 0.9146 - val_loss: 1.5277 - val_accuracy: 0.5403 - 193s/epoch - 889ms/step\n",
      "Epoch 10/10\n",
      "217/217 - 189s - loss: 0.1775 - accuracy: 0.9236 - val_loss: 1.5205 - val_accuracy: 0.5450 - 189s/epoch - 871ms/step\n"
     ]
    }
   ],
   "source": [
    "# Train the model\n",
    "\n",
    "num_epochs = 10\n",
    "history = model.fit(train_padded, training_label_seq, epochs=num_epochs, \n",
    "                    validation_data=(validation_padded, validation_label_seq), verbose=2)"
   ]
  },
  {
   "cell_type": "code",
   "execution_count": 182,
   "id": "be8d0154",
   "metadata": {},
   "outputs": [
    {
     "name": "stdout",
     "output_type": "stream",
     "text": [
      "dict_keys(['loss', 'accuracy', 'val_loss', 'val_accuracy'])\n"
     ]
    },
    {
     "data": {
      "image/png": "[encoded data removed]",
      "text/plain": [
       "<Figure size 640x480 with 1 Axes>"
      ]
     },
     "metadata": {},
     "output_type": "display_data"
    },
    {
     "data": {
      "image/png": "[encoded data removed]",
      "text/plain": [
       "<Figure size 640x480 with 1 Axes>"
      ]
     },
     "metadata": {},
     "output_type": "display_data"
    }
   ],
   "source": [
    "# plots\n",
    "import matplotlib.pyplot as plt\n",
    "\n",
    "print(history.history.keys())\n",
    "#accuracy\n",
    "plt.plot(history.history['accuracy'])\n",
    "plt.plot(history.history['val_accuracy'])\n",
    "plt.title('model accuracy')\n",
    "plt.ylabel('accuracy')\n",
    "plt.xlabel('epoch')\n",
    "plt.legend(['train', 'test'], loc='upper left')\n",
    "plt.show()\n",
    "\n",
    "#loss\n",
    "plt.plot(history.history['loss'], 'b', label = 'train')\n",
    "plt.plot(history.history['val_loss'], 'r',  label = 'test')\n",
    "plt.title('model loss')\n",
    "plt.ylabel('loss')\n",
    "plt.xlabel('epochs')\n",
    "plt.legend()\n",
    "plt.show()"
   ]
  },
  {
   "cell_type": "code",
   "execution_count": null,
   "id": "d4bc1944",
   "metadata": {},
   "outputs": [],
   "source": []
  }
 ],
 "metadata": {
  "kernelspec": {
   "display_name": "Python 3 (ipykernel)",
   "language": "python",
   "name": "python3"
  },
  "language_info": {
   "codemirror_mode": {
    "name": "ipython",
    "version": 3
   },
   "file_extension": ".py",
   "mimetype": "text/x-python",
   "name": "python",
   "nbconvert_exporter": "python",
   "pygments_lexer": "ipython3",
   "version": "3.9.7"
  }
 },
 "nbformat": 4,
 "nbformat_minor": 5
}
